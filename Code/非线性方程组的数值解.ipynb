{
 "cells": [
  {
   "cell_type": "code",
   "execution_count": 47,
   "metadata": {},
   "outputs": [],
   "source": [
    "# 导入numpy库，用于进行科学计算\n",
    "import numpy as np\n",
    "\n",
    "# 导入matplotlib.pyplot库，用于数据可视化\n",
    "import matplotlib.pyplot as plt\n",
    "\n",
    "# 导入scipy库，用于科学计算和工程计算\n",
    "import scipy as sp\n",
    "\n",
    "# 导入math库，用于数学函数和常量\n",
    "import math\n",
    "\n",
    "# 导入sympy库，用于符号数学计算\n",
    "import sympy as syp"
   ]
  },
  {
   "cell_type": "markdown",
   "metadata": {},
   "source": [
    "对于一般的高阶函数或者超越方程,我们很难得到其解析解,在这种情况下,若$f(x) \\in C_{[a,b]}$,且$f(a)f(b) < 0$,那么我们如何求解方程零点呢?  \n",
    "通常来讲,我们有如下的方法来解决这个问题:\n",
    "1. 二分法\n",
    "2. 不动点迭代\n",
    "3. Newton法及其变形"
   ]
  },
  {
   "cell_type": "markdown",
   "metadata": {},
   "source": [
    "在介绍这些方法之前我们需要有如下知识储备:\n",
    "1. 零点存在性定理:  \n",
    "if $f(x) \\in C_{[a,b]}$ and when $f(a)f(b) < 0$ then there exists as least one root $x_0 \\in (a,b)$ such that $f(x_0) = 0$.\n",
    "\n",
    "2. 根分解定理:  \n",
    "if exists $x_0$ such that $f(x_0) = 0$ then $f$ can be decomposed into $f(x) = (x - x0)^mg(x)$ when $g(x0) \\neq 0$."
   ]
  },
  {
   "cell_type": "markdown",
   "metadata": {},
   "source": [
    "我们首先来介绍`二分法`的基本原理:  \n",
    "二分法是解决一个方程的经典方法，其基本思想是每次将方程的解空间范围缩小一半，直到找到方程的解。"
   ]
  },
  {
   "cell_type": "code",
   "execution_count": 48,
   "metadata": {},
   "outputs": [],
   "source": [
    "##在计算过程中,我们将采用数值微分与符号微分同时进行的策略"
   ]
  },
  {
   "cell_type": "code",
   "execution_count": 49,
   "metadata": {},
   "outputs": [],
   "source": [
    "def f(x):\n",
    "    return  3**x - 2 - x"
   ]
  },
  {
   "cell_type": "code",
   "execution_count": 50,
   "metadata": {},
   "outputs": [],
   "source": [
    "def bisection_method(f, x_in, set, tol=1e-6, max_iter=150):\n",
    "    \"\"\"\n",
    "    使用二分法查找函数f在区间set内的零点。\n",
    "    \n",
    "    参数:\n",
    "    f: 待求零点的函数。\n",
    "    x_in: 区间的初始猜测值。\n",
    "    set: 包含两个元素的数组，表示初始搜索区间[a, b]。\n",
    "    tol: 零点搜索的容差,即当函数值的绝对值小于tol时认为找到了零点。\n",
    "    max_iter: 最大迭代次数，防止无限循环。\n",
    "    \n",
    "    返回:\n",
    "    区间内的函数零点，或在达到最大迭代次数后返回最后一次迭代的猜测值。\n",
    "    \"\"\"\n",
    "    \n",
    "    # 参数检查\n",
    "    if not callable(f):\n",
    "        raise ValueError(\"f must be a callable function.\")\n",
    "    if not (isinstance(set, (list, tuple)) and len(set) == 2):\n",
    "        raise ValueError(\"set must be a list or tuple of length 2.\")\n",
    "    if tol <= 0 or max_iter <= 0:\n",
    "        raise ValueError(\"tol and max_iter must be positive.\")\n",
    "    \n",
    "    # 初始化区间端点\n",
    "    a, b = set\n",
    "    # 检查区间是否有效\n",
    "    if a == b:\n",
    "        raise ValueError(\"The interval set must not be a single point.\")\n",
    "    fa, fb = f(a), f(b)\n",
    "    if fa * fb >= 0:\n",
    "        raise ValueError(\"f(a) and f(b) must have different signs.\")\n",
    "    \n",
    "    # 初始化猜测值\n",
    "    x0 = x_in  # 初始猜测值，虽然未直接使用，但可能用于未来扩展\n",
    "    # 初始化迭代计数器\n",
    "    i = 0\n",
    "    while i < max_iter:\n",
    "        # 计算区间中点\n",
    "        x1 = (a + b) / 2\n",
    "        # 如果中点的函数值的绝对值小于容差，则认为找到了零点\n",
    "        if abs(f(x1)) < tol:\n",
    "            return x1\n",
    "        # 根据中点和区间端点的函数值符号判断零点在哪个区间\n",
    "        if fa * f(x1) < 0:\n",
    "            b = x1\n",
    "            fb = f(b)\n",
    "        else:\n",
    "            a = x1\n",
    "            fa = f(a)\n",
    "        # 迭代计数器加一\n",
    "        i += 1\n",
    "    # 如果达到最大迭代次数仍未找到零点，则返回最后一次的猜测值\n",
    "    return x1"
   ]
  },
  {
   "cell_type": "code",
   "execution_count": 51,
   "metadata": {},
   "outputs": [
    {
     "name": "stdout",
     "output_type": "stream",
     "text": [
      "0.0 1.0\n"
     ]
    }
   ],
   "source": [
    "set = [0,2]\n",
    "\n",
    "x0 = bisection_method(f,0.5,set)\n",
    "\n",
    "\n",
    "print(f(x0),x0)"
   ]
  },
  {
   "cell_type": "markdown",
   "metadata": {},
   "source": [
    "# 不动点迭代法求解方程根\n",
    "在数学和数值分析领域，不动点迭代法是一种寻找方程根（即解）的简单而有效的方法。这种方法尤其适用于无法直接解析求解或难以应用其他数值方法的情况。下面，我们将详细介绍不动点迭代法的基本概念、原理、步骤以及其实现过程中需要注意的事项。\n",
    "\n",
    "## 基本概念\n",
    "* 什么是不动点？\n",
    "在数学中，若对于某个映射$ g(x) $，存在某一点$ x^* $满足$ g(x^*) = x^* $，则称$ x^* $为该映射的不动点。换句话说，不动点是使得映射函数在其上作用后保持不变的点。\n",
    "\n",
    "* 不动点迭代法\n",
    "不动点迭代法基于以下思想：给定一个连续可微的函数$ g(x) $，如果能找到一个合适的初值$ x_0 $，并通过迭代公式$ x_{n+1} = g(x_n) $生成一系列的$ x_n $，那么在一定条件下，这个序列将收敛到$ g(x) $的一个不动点$ x^* $，而这个不动点可能就是原方程$ f(x) = 0 $的一个解，其中$ g(x) $与原方程$ f(x) $之间存在某种关系，比如$ g(x) = x - \\frac{f(x)}{f'(x)} $（牛顿迭代法的特例，当$ f'(x) $不为0时）或更简单的形式如$ g(x) = \\sqrt{c - x} $来解方程$ x^2 + x - c = 0 $。\n",
    "\n",
    "## 实现步骤\n",
    "1. 选择合适的$ g(x) $：首先，需要根据目标方程构造一个合适的不动点迭代函数$ g(x) $。选择的$ g(x) $应保证在解的邻域内单调且有界，且其不动点对应原方程的根。\n",
    "\n",
    "2. 确定初值$ x_0 $：选取一个合适的初值$ x_0 $，它应当足够接近真实的不动点，以保证迭代序列能够快速收敛。\n",
    "\n",
    "3. 迭代计算：按照迭代公式$ x_{n+1} = g(x_n) $，反复计算直到满足预设的收敛准则，如两次连续迭代值之差的绝对值小于某个很小的正数（称为容差）。\n",
    "\n",
    "4. 收敛性检验：在迭代过程中，需要定期检查迭代序列是否收敛，避免进入无限循环或发散。\n",
    "\n",
    "## 注意事项\n",
    "* 收敛性分析：不动点迭代法的收敛性依赖于$ g(x) $的性质及其不动点的位置。确保所选的$ g(x) $在不动点附近是合同映射（即存在$ 0 < k < 1 $使得对所有$ x $靠近$ x^* $，有$ |g'(x)| \\leq k < 1 $），是保证局部收敛性的关键。\n",
    "\n",
    "* 选择合适的初值：初值的选择对迭代过程的收敛速度和是否收敛至关重要。一个好的初值可以大大加速收敛过程。\n",
    "\n",
    "* 迭代次数与终止条件：合理设定迭代的最大次数和收敛的判别标准，避免无休止的迭代或过早停止。"
   ]
  },
  {
   "cell_type": "code",
   "execution_count": 52,
   "metadata": {},
   "outputs": [
    {
     "data": {
      "image/png": "[encoded data removed]",
      "text/plain": [
       "<Figure size 1000x1000 with 1 Axes>"
      ]
     },
     "metadata": {},
     "output_type": "display_data"
    }
   ],
   "source": [
    "##容易发现,不动点迭代具有非常多变的特点,但是他们的收敛效率差别巨大,我们可以通过以下这两个例子发现\n",
    "\n",
    "def test1(x):\n",
    "    return np.log(12 * x + 1) / np.log(3)\n",
    "\n",
    "def test2(x):\n",
    "    return (3**x - 1) / 12\n",
    "\n",
    "x = np.linspace(0,10,1000)\n",
    "\n",
    "plt.figure(figsize=(10,10))\n",
    "plt.plot(x,test1(x),'r-',label='test1')\n",
    "plt.plot(x,test2(x),'b-',label='test2')\n",
    "plt.legend()\n",
    "plt.show()"
   ]
  },
  {
   "cell_type": "code",
   "execution_count": 53,
   "metadata": {},
   "outputs": [],
   "source": [
    "def fixed_point_iteration(f, x_in, tol=1e-6, max_iter=150):\n",
    "    \"\"\"\n",
    "    固定点迭代法。\n",
    "\n",
    "    通过迭代寻找函数f的固定点,即满足f(x) = x的点x。\n",
    "\n",
    "    参数:\n",
    "    f -- 固定点迭代法所使用的函数。\n",
    "    x_in -- 迭代的初始值。\n",
    "    tol -- 迭代的终止容差,默认为1e-6。\n",
    "    max_iter -- 最大迭代次数,默认为150。\n",
    "\n",
    "    返回:\n",
    "    x1 -- 迭代得到的近似固定点。\n",
    "    \"\"\"\n",
    "    \n",
    "    # 初始化迭代变量\n",
    "    x0 = x_in\n",
    "    \n",
    "    # 初始化迭代次数\n",
    "    i = 0\n",
    "    \n",
    "    # 开始迭代过程\n",
    "    while i < max_iter:\n",
    "        \n",
    "        # 计算下一次迭代的值\n",
    "        x1 = f(x0)\n",
    "        \n",
    "        # 检查是否满足收敛条件\n",
    "        if np.linalg.norm(x1 - x0) < tol:\n",
    "            # 如果满足收敛条件，跳出循环\n",
    "            break\n",
    "        \n",
    "        # 更新迭代变量\n",
    "        x0 = x1\n",
    "        \n",
    "        # 增加迭代次数\n",
    "        i += 1\n",
    "    \n",
    "    # 检查是否达到最大迭代次数\n",
    "    if i == max_iter:\n",
    "        # 如果达到最大迭代次数仍未收敛，打印提示信息\n",
    "        print(\"未收敛\")\n",
    "    else:\n",
    "        # 如果收敛，打印迭代次数和结果\n",
    "        print(f\"迭代次数为:{i+1}, 迭代结果为:{x1}\")\n",
    "    \n",
    "    # 返回最终迭代结果\n",
    "    return x1"
   ]
  },
  {
   "cell_type": "code",
   "execution_count": 54,
   "metadata": {},
   "outputs": [
    {
     "name": "stdout",
     "output_type": "stream",
     "text": [
      "迭代次数为:13, 迭代结果为:3.3970599666293246\n",
      "迭代次数为:7, 迭代结果为:8.460053352310482e-08\n"
     ]
    }
   ],
   "source": [
    "iter_1,iter_2 = 0,0\n",
    "\n",
    "max_iter = 150\n",
    "\n",
    "tol = 1e-6\n",
    "\n",
    "x0 = np.random.rand()\n",
    "\n",
    "x1 = fixed_point_iteration(test1,x0)\n",
    "\n",
    "x2 = fixed_point_iteration(test2,x0)"
   ]
  },
  {
   "cell_type": "markdown",
   "metadata": {},
   "source": [
    "# 牛顿法求解方程的根\n",
    "牛顿法（Newton's method），又称为牛顿-拉弗森方法（Newton-Raphson method），是一种在实数域和复数域中近似求解方程$f(x) = 0$根的有效迭代算法。此方法由艾萨克·牛顿在17世纪提出，被广泛应用于科学计算、工程问题及数学的各个分支中，特别是在寻找函数极值、曲线拟合以及复杂方程系统的求解等方面。\n",
    "\n",
    "## 基本原理\n",
    "牛顿法利用了函数$f(x)$在$x$点的`泰勒级数展开`，并且只保留到一阶导数项，来近似函数的行为。对于给定的迭代点$x_k$，牛顿法构造下一个迭代点$x_{k+1}$，使得它位于函数在$x_k$处切线与x轴的交点。具体来说，迭代公式如下：\n",
    "\n",
    "$$x_{k+1} = x_k - \\frac{f(x_k)}{f'(x_k)}$$\n",
    "\n",
    "这里，$f'(x_k)$表示函数$f(x)$在$x=x_k$处的导数值。直观上，如果$f'(x_k) \\neq 0$，那么$x_{k+1}$会更接近于$f(x)=0$的根，因为它是基于$f(x)$在$x_k$局部线性化后的根来确定的。\n",
    "\n",
    "## 迭代过程\n",
    "1. 选择初始点：选择一个初始近似值$x_0$，通常这个值需要靠近方程的根，以加速收敛。\n",
    "2. 计算迭代值：根据上述迭代公式计算下一个近似根$x_1$。\n",
    "3. 检查收敛性：比较相邻两次迭代值之间的差或函数值与零的差，如果小于预设的容差（如$10^{-6}$），则认为已经找到足够精确的根，迭代结束。\n",
    "4. 重复迭代：如果不满足收敛条件，用$x_1$代替$x_0$继续上述过程，直至收敛。\n",
    "## 收敛性和局限性\n",
    "* 收敛速度：牛顿法在很多情况下具有`二阶收敛性`，意味着每迭代一次，误差大约减少为原来的平方，因此通常能快速逼近根。\n",
    "* 局限性：牛顿法依赖于初值的选择和导数的存在与连续性。若初值选择不当，可能会导致不收敛或收敛到非目标根。此外，当$f'(x) = 0$时，迭代公式失效。\n",
    "## 注意事项\n",
    "* 避免除零错误：确保在计算迭代公式时$f'(x_k) \\neq 0$。\n",
    "* 数值稳定性：在实际计算中，要考虑浮点运算的误差累积，可能需要采用数值稳定的算法来计算导数和迭代值。\n",
    "* 迭代终止条件：合理设置迭代的最大次数和容差，以防止无限循环或过早停止。"
   ]
  },
  {
   "cell_type": "code",
   "execution_count": 55,
   "metadata": {},
   "outputs": [],
   "source": [
    "def f(x):\n",
    "    \"\"\"\n",
    "    定义了一个二次函数减去e的幂次函数。\n",
    "\n",
    "    参数:\n",
    "    x: 输入的自变量\n",
    "\n",
    "    返回值:\n",
    "    3 * x ** 2 - np.exp(x): 计算得到的函数值\n",
    "    \"\"\"\n",
    "    return 3 * x ** 2 - np.exp(x)\n",
    "\n",
    "def newton_iteration(f, x_in, interval, tol=1e-6, max_iter=150, epsilon=1e-6):\n",
    "    \"\"\"\n",
    "    使用牛顿迭代法进行数值求根。\n",
    "\n",
    "    参数:\n",
    "    f: 函数f(x)的定义\n",
    "    x_in: 迭代的初始值\n",
    "    interval: 迭代的区间，以元组(a, b)形式给出\n",
    "    tol: 允许的误差范围,默认为1e-6\n",
    "    max_iter: 最大迭代次数,默认为150\n",
    "    epsilon: 数值微分的步长,默认为1e-6\n",
    "    \n",
    "    返回:\n",
    "    x: 迭代后的根值\n",
    "    \"\"\"\n",
    "    if len(interval) != 2:\n",
    "        raise ValueError(\"interval参数必须是一个长度为2的组合\")\n",
    "    if not all(isinstance(x, (int, float)) for x in interval):\n",
    "        raise ValueError(\"interval元组的元素必须是整数或浮点数\")\n",
    "    \n",
    "    a, b = interval\n",
    "    x0 = x_in\n",
    "    \n",
    "    i = 0  # 初始化迭代次数\n",
    "    \n",
    "    while True:\n",
    "        \n",
    "        if x0 < a or x0 > b:\n",
    "            print('x0超出迭代区间')\n",
    "            break\n",
    "        \n",
    "        df = (f(x0 + epsilon) - f(x0)) / epsilon  # 数值求导，估计导数\n",
    "        \n",
    "        x1 = x0 - f(x0) / df  # 使用牛顿迭代公式更新x0\n",
    "        \n",
    "        if abs(x1 - x0) < tol or i == max_iter:\n",
    "            x = x1\n",
    "            break  # 如果满足误差要求或达到最大迭代次数，结束迭代\n",
    "        \n",
    "        x0 = x1  # 更新迭代变量\n",
    "        i += 1  # 增加迭代次数\n",
    "    \n",
    "    if i == max_iter:\n",
    "        print('迭代次数超过最大次数')\n",
    "    \n",
    "    return x\n",
    "\n",
    "# 示例调用\n",
    "# interval = (0, 2)\n",
    "# root = newton_iteration(f, 1, interval)\n",
    "# print(f\"找到的根: {root}\")"
   ]
  },
  {
   "cell_type": "code",
   "execution_count": 56,
   "metadata": {},
   "outputs": [
    {
     "name": "stdout",
     "output_type": "stream",
     "text": [
      "f在区间(3, 5)的零点为3.7330790286328144\n"
     ]
    }
   ],
   "source": [
    "set = (3,5)\n",
    "\n",
    "x = newton_iteration(f,3.5,set)\n",
    "\n",
    "print(f\"{f.__name__}在区间{set}的零点为{x}\")"
   ]
  },
  {
   "cell_type": "code",
   "execution_count": 57,
   "metadata": {},
   "outputs": [],
   "source": [
    "def newton_iteration_symbol(x_in, set, tol=1e-6, max_iter=150):\n",
    "    \"\"\"\n",
    "    Use symbolic differentiation to calculate the zero point of a function.\n",
    "\n",
    "    Args:\n",
    "        f (sp.Function): The input function, must be defined using the sympy library.\n",
    "        x_in (float): The initial zero point.\n",
    "        set (list/array/tuple): The interval where the zero point exists.\n",
    "        tol (float, optional): The upper limit of the calculation error. Defaults to 1e-6.\n",
    "        max_iter (int, optional): The maximum number of iterations. Defaults to 150.\n",
    "    \"\"\"\n",
    "\n",
    "    # Check if the input set contains exactly two elements\n",
    "    if len(set) != 2:\n",
    "        raise ValueError(\"The set must contain exactly two elements defining the interval.\")\n",
    "    \n",
    "    # Check if x_in is a number\n",
    "    if not isinstance(x_in, (int, float)):\n",
    "        raise TypeError(\"x_in must be a numeric type.\")\n",
    "    \n",
    "    a, b = set\n",
    "    \n",
    "    x = syp.Symbol('x')\n",
    "    \n",
    "    # f is defined directly, avoid using eval for security reasons\n",
    "    f = x+1 - syp.exp(x)\n",
    "    \n",
    "    diff1 = syp.diff(f, x)\n",
    "    \n",
    "    # Check if initial guess is within the interval\n",
    "    if x_in < a or x_in > b:\n",
    "        raise ValueError('Initial guess x0 is outside the iteration interval.')\n",
    "    \n",
    "    x0 = x_in\n",
    "    \n",
    "    x_out = None\n",
    "    \n",
    "    i = 0\n",
    "    \n",
    "    try:\n",
    "        while True:\n",
    "            \n",
    "            if x0 < a or x0 > b:\n",
    "                print('x0超出迭代区间')\n",
    "                break\n",
    "            \n",
    "            f1 = f.subs(x, x0)\n",
    "            \n",
    "            f2 = diff1.subs(x, x0)\n",
    "            \n",
    "            x1 = x0 - f1 / f2\n",
    "            \n",
    "            if abs(x1 - x0) < tol or i == max_iter:\n",
    "                \n",
    "                x_out = x1\n",
    "                \n",
    "                break\n",
    "            \n",
    "            x0 = x1\n",
    "            \n",
    "            i += 1\n",
    "    \n",
    "    except ZeroDivisionError:\n",
    "        print(\"Division by zero occurred, please check the derivative of the function.\")\n",
    "    \n",
    "    if i == max_iter:\n",
    "        print('迭代次数超过最大次数')\n",
    "    \n",
    "    return round(x_out,5)"
   ]
  },
  {
   "cell_type": "code",
   "execution_count": 58,
   "metadata": {},
   "outputs": [
    {
     "name": "stdout",
     "output_type": "stream",
     "text": [
      "f在区间(-2, 2)的零点为0.0\n"
     ]
    }
   ],
   "source": [
    "set = (-2,2)\n",
    "\n",
    "x = newton_iteration_symbol(0.5,set)\n",
    "\n",
    "print(f\"{f.__name__}在区间{set}的零点为{x}\")"
   ]
  },
  {
   "cell_type": "code",
   "execution_count": 59,
   "metadata": {},
   "outputs": [],
   "source": [
    "def newton_iteration_secant(f, x_in, set, tol=1e-6, max_iter=150):\n",
    "    \"\"\"\n",
    "    使用牛顿迭代法求解方程f(x) = 0的根。\n",
    "    \n",
    "    参数:\n",
    "    - f: 函数f(x),需要求解f(x) = 0。\n",
    "    - x_in: 初始猜测的根的区间，以元组形式提供(x0, x1)。\n",
    "    - set: 定义的区间(a, b),x0和x1应在这个区间内。\n",
    "    - tol: 允许的误差容忍度，迭代结束的条件之一。\n",
    "    - max_iter: 最大迭代次数，防止无限循环。\n",
    "    \n",
    "    返回:\n",
    "    - x: 找到的根的近似值,如果迭代未能收敛,则为None。\n",
    "    \"\"\"\n",
    "    \n",
    "    # 参数验证\n",
    "    if not (len(x_in) == 2 and len(set) == 2):\n",
    "        raise ValueError(\"输入参数格式不正确。\")\n",
    "    if set[0] >= set[1]:\n",
    "        raise ValueError(\"区间定义错误,a应该小于b。\")\n",
    "    if not (set[0] <= x_in[0] <= set[1] and set[0] <= x_in[1] <= set[1]):\n",
    "        raise ValueError(\"初始猜测的区间不在定义区间内。\")\n",
    "    \n",
    "    a, b = set\n",
    "    x0, x1 = x_in\n",
    "    \n",
    "    i = 0\n",
    "    x = None\n",
    "    \n",
    "    while i < max_iter:\n",
    "        # 避免除以0的情况\n",
    "        if x1 == x0:\n",
    "            print(\"警告:除以0的潜在风险,迭代终止。\")\n",
    "            break\n",
    "        \n",
    "        df = (f(x1) - f(x0)) / (x1 - x0)\n",
    "        \n",
    "        # 检查df是否有效\n",
    "        if df == float('inf') or df == float('-inf') or np.isnan(df):\n",
    "            print(\"警告:df计算结果无效,迭代终止。\")\n",
    "            break\n",
    "        \n",
    "        x2 = x1 - f(x1) / df\n",
    "        \n",
    "        if abs(x2 - x1) < tol:\n",
    "            x = x2\n",
    "            break\n",
    "        \n",
    "        x1, x0 = x2, x1\n",
    "        \n",
    "        i += 1\n",
    "    \n",
    "    if i == max_iter:\n",
    "        print(f'Iteration:{i+1}, Maximum iteration reached')\n",
    "    \n",
    "    return x"
   ]
  },
  {
   "cell_type": "code",
   "execution_count": 60,
   "metadata": {},
   "outputs": [
    {
     "name": "stdout",
     "output_type": "stream",
     "text": [
      "f在区间[3, 5]的零点为3.7330790285461832\n"
     ]
    }
   ],
   "source": [
    "set = [3,5]\n",
    "x_in = [3.5,3.6]\n",
    "x = newton_iteration_secant(f,x_in,set)\n",
    "\n",
    "print(f\"{f.__name__}在区间{set}的零点为{x}\")"
   ]
  },
  {
   "cell_type": "markdown",
   "metadata": {},
   "source": [
    "在分析完一维的情况后,我们来考虑一下多维的情况:\n",
    "# 二分法:\n",
    "这一方法在高维时将难以再做出推广.因为我们对于一个区间的二分总是容易分的,但是对于一个区域而言,我们很难知道应该如何划分.\n",
    "\n",
    "# 高维牛顿法（Newton's Method in Higher Dimensions）\n",
    "\n",
    "## 基本思想\n",
    "高维牛顿法的核心思想仍然是利用目标函数的泰勒级数展开，但这次是在多变量情况下进行。对于一个多元函数$f(\\boldsymbol{x})$，在点$\\boldsymbol{x}_n$附近，可以将其展开为：\n",
    "\n",
    "$$ \n",
    "f(\\boldsymbol{x}) \\approx f(\\boldsymbol{x}_n) + \\nabla f(\\boldsymbol{x}_n)^T (\\boldsymbol{x} - \\boldsymbol{x}_n) + \\frac{1}{2} (\\boldsymbol{x} - \\boldsymbol{x}_n)^T H_f(\\boldsymbol{x}_n) (\\boldsymbol{x} - \\boldsymbol{x}_n) \n",
    "$$,\n",
    "\n",
    "其中$\\nabla f(\\boldsymbol{x}_n)$是函数在$\\boldsymbol{x}_n$处的梯度向量，$H_f(\\boldsymbol{x}_n)$是函数的海森矩阵（Hessian matrix），即二阶偏导数组成的矩阵,即:\n",
    "对于一个$X \\in \\R^{n}$,由Newton法的思想,我们仍然可以采用:\n",
    "$$\n",
    "H_f = \\begin{pmatrix}\n",
    "\\frac{\\partial f_1}{\\partial x_1} & \\frac{\\partial f_1}{\\partial x_2} & \\cdots & \\frac{\\partial f_1}{\\partial x_n} \\\\\n",
    "\\vdots & \\vdots & \\ddots & \\vdots\\\\\n",
    "\\frac{\\partial f_n}{\\partial x_1} & \\frac{\\partial f_n}{\\partial x_2} & \\cdots & \\frac{\\partial f_n}{\\partial x_n} \\\\\n",
    "\\end{pmatrix}\n",
    "$$\n",
    "在最小值点附近，海森矩阵应当是半正定的，且若为极小值点则应为正定。\n",
    "\n",
    "## 迭代公式\n",
    "基于上述展开，忽略二次及更高阶项，我们得到牛顿步骤的迭代公式：\n",
    "\n",
    "$$ \\boldsymbol{x}_{n+1} = \\boldsymbol{x}_n - [H_f(\\boldsymbol{x}_n)]^{-1} \\nabla f(\\boldsymbol{x}_n) $$\n",
    "\n",
    "这里，$\\boldsymbol{x}_{n+1}$是下一次迭代的点，$[H_f(\\boldsymbol{x}_n)]^{-1}$是海森矩阵的逆矩阵，用于提供搜索方向，而$\\nabla f(\\boldsymbol{x}_n)$给出了当前点的梯度，指示了函数增大的最快方向。\n",
    "\n",
    "## 挑战与改进\n",
    "计算复杂度\n",
    "在实际应用中，直接计算和求逆海森矩阵可能非常昂贵，特别是在高维度情况下。因此，海森矩阵的计算和求逆成为主要的计算瓶颈。此外，海森矩阵可能不是正定的，这会导致无法直接求逆。\n",
    "\n",
    "## 解决策略\n",
    "为克服这些挑战，研究者们开发了拟牛顿法（Quasi-Newton Methods），如BFGS和L-BFGS等。这些方法避免了直接计算和存储海森矩阵，而是通过一系列近似更新来逐步逼近最优方向，从而大大降低了计算成本和内存需求。\n",
    "\n",
    "## 总结\n",
    "高维牛顿法提供了一种强大的工具来解决复杂的非线性优化问题，尤其是在目标函数的形状允许快速收敛的情况下。然而，其应用需谨慎考虑计算效率和收敛性问题，适时采用拟牛顿法或其他优化策略作为替代方案。在实际实施时，还需注意初始化点的选择、收敛准则的设定以及异常情况的处理，以确保算法稳定且高效地运行。"
   ]
  },
  {
   "cell_type": "code",
   "execution_count": 61,
   "metadata": {},
   "outputs": [],
   "source": [
    "import numpy as np\n",
    "\n",
    "def newton_iteration2D(f, x0, set=None, tol=1e-6, max_iter=150, sigma=1e-4):\n",
    "    \"\"\"\n",
    "    牛顿法求解非线性方程组的数值解\n",
    "\n",
    "    Args:\n",
    "        f (callable): 接受一个向量x并返回一个向量的函数\n",
    "        x0 (ndarray): 初始猜测解,一个numpy数组\n",
    "        set (_type_, optional): _description_. Defaults to None.\n",
    "        tol (float, optional): 精度 tolerance. Defaults to 1e-6.\n",
    "        max_iter (int, optional): 最大迭代次数. Defaults to 150.\n",
    "        sigma (float, optional): 差分参数. Defaults to 1e-4.\n",
    "\n",
    "    Raises:\n",
    "        ValueError: 如果输入参数不符合要求\n",
    "    \"\"\"\n",
    "\n",
    "    if not callable(f):\n",
    "        raise ValueError(\"f must be a callable function that takes a vector and returns a vector\")\n",
    "    \n",
    "    x0 = x0.copy()\n",
    "    \n",
    "    def diff(f, x, b, sigma=sigma):\n",
    "        \n",
    "        m = len(b)\n",
    "        if m == 0:\n",
    "            raise ValueError(\"The size of b must be greater than 0\")\n",
    "        \n",
    "        V = np.zeros((m, m + 1))\n",
    "        H = np.zeros((m + 1, m))\n",
    "        \n",
    "        r0 = b\n",
    "        bet = np.linalg.norm(r0)\n",
    "        \n",
    "        b0 = np.zeros(m)\n",
    "        b0[0] = bet\n",
    "        \n",
    "        v1 = r0 / bet\n",
    "        V[:, 0] = v1\n",
    "        \n",
    "        for j in range(m):\n",
    "            \n",
    "            w = f(x + sigma * V[:, j]) - f(x)\n",
    "            w = w / sigma\n",
    "            \n",
    "            for i in range(j + 1):\n",
    "                h = np.dot(w, V[:, i])\n",
    "                w = w - h * V[:, i]\n",
    "                H[i, j] = h\n",
    "                \n",
    "            H[j + 1, j] = np.linalg.norm(w)\n",
    "            V[:, j + 1] = w / H[j + 1, j]\n",
    "        \n",
    "        y = np.linalg.solve(H[:m, :m], b0)\n",
    "        x0 = np.dot(V[:, :m], y)\n",
    "        \n",
    "        return x0\n",
    "    \n",
    "    i = 0\n",
    "    \n",
    "    while i < max_iter:\n",
    "        \n",
    "        b = -f(x0)\n",
    "        \n",
    "        s = diff(f, x0, b, sigma)\n",
    "        \n",
    "        x0 = x0 + s\n",
    "        \n",
    "        if np.linalg.norm(s) < tol:\n",
    "            break\n",
    "        \n",
    "        i += 1\n",
    "        \n",
    "    return (x0,i)"
   ]
  },
  {
   "cell_type": "code",
   "execution_count": 62,
   "metadata": {},
   "outputs": [
    {
     "name": "stdout",
     "output_type": "stream",
     "text": [
      "(array([1., 1.]), 4)\n"
     ]
    }
   ],
   "source": [
    "def f(x):\n",
    "    x1,x2 = x[0],x[1]\n",
    "    \n",
    "    f1 = x1 ** 2 - 10 * x1 + x2 ** 2 + 8\n",
    "    f2 = x1 * x2**2 + x1 - 10 * x2 + 8\n",
    "    \n",
    "    return np.array([f1,f2]).astype(float)\n",
    "\n",
    "X0 = [0,0]\n",
    "\n",
    "X = newton_iteration2D(f,X0)\n",
    "\n",
    "print(X)"
   ]
  },
  {
   "cell_type": "markdown",
   "metadata": {},
   "source": [
    "上机练习:\n",
    "\n",
    "ex1:  \n",
    "结合二分法和Newton法求解下列方程的实根:  \n",
    "(1)$x^2 - 3x + 2 - e^x = 0$  \n",
    "(2)$x^3 + 2x^2 + 10x - 20 = 0$"
   ]
  },
  {
   "cell_type": "code",
   "execution_count": 63,
   "metadata": {},
   "outputs": [
    {
     "name": "stdout",
     "output_type": "stream",
     "text": [
      "第一个函数的二分法根为0.2575303316116333,牛顿根为0.2575302854398608\n",
      "第二个函数的根为1.3688081502914429,牛顿根为1.3688081078213734\n"
     ]
    }
   ],
   "source": [
    "def f_1(x):\n",
    "    return x**2 - 3 * x + 2 - np.exp(x)\n",
    "\n",
    "def f_2(x):\n",
    "    return x**3 + 2 * x**2 + 10 * x - 20\n",
    "\n",
    "set = [0,3]\n",
    "x0 = 0.5\n",
    "\n",
    "x_0_bise = bisection_method(f_1,x0,set)\n",
    "x_0_newton = newton_iteration(f_1,x0,set)\n",
    "print(f\"第一个函数的二分法根为{x_0_bise},牛顿根为{x_0_newton}\")\n",
    "\n",
    "x_1_bise = bisection_method(f_2,x0,set)\n",
    "x_1_newton = newton_iteration(f_2,x0,set)\n",
    "print(f\"第二个函数的根为{x_1_bise},牛顿根为{x_1_newton}\")"
   ]
  },
  {
   "cell_type": "markdown",
   "metadata": {},
   "source": [
    "ex2:  \n",
    "分别用二分法,Newton法,割线法求解:\n",
    "$$\n",
    "xe^x - 1 = 0\n",
    "$$"
   ]
  },
  {
   "cell_type": "code",
   "execution_count": 64,
   "metadata": {},
   "outputs": [
    {
     "name": "stdout",
     "output_type": "stream",
     "text": [
      "采用二分法求解结果为:0.567143440246582\n",
      "采用牛顿迭代法求解结果为:0.5671432904097838\n",
      "采用线性插值法求解结果为:0.5671432904097891\n"
     ]
    }
   ],
   "source": [
    "def f(x):\n",
    "    return x*np.exp(x) - 1\n",
    "\n",
    "set = [0,1]\n",
    "\n",
    "x_in_bise = 0.1\n",
    "x_bise = bisection_method(f,x_in_bise,set)\n",
    "print(f\"采用二分法求解结果为:{x_bise}\")\n",
    "\n",
    "x_in_newton = 0.1\n",
    "x_newton = newton_iteration(f,x_in_newton,set)\n",
    "print(f\"采用牛顿迭代法求解结果为:{x_newton}\")\n",
    "\n",
    "x_in_linear = [0.1,0.2]\n",
    "x_linear = newton_iteration_secant(f,x_in_linear,set)\n",
    "print(f\"采用线性插值法求解结果为:{x_linear}\")\n"
   ]
  },
  {
   "cell_type": "markdown",
   "metadata": {},
   "source": [
    "ex3:  \n",
    "利用Newton法或者Inexact Newton method计算:\n",
    "$$\n",
    "\\left\\{\n",
    "    \\begin{align}\n",
    "        & 3x_1 - \\cos{x_2x_3} - \\frac{1}{2} = 0 \\\\\n",
    "        & x_1^2 - 81(x_2 + 0.1)^2 + \\sin{x_3} + 1.06 = 0 \\\\\n",
    "        & \\exp{-x_1x_2} + 20x_3 + \\frac{10}{3}\\pi - 1 = 0\n",
    "    \\end{align}\n",
    "\\right.\n",
    "$$"
   ]
  },
  {
   "cell_type": "code",
   "execution_count": 65,
   "metadata": {},
   "outputs": [
    {
     "name": "stdout",
     "output_type": "stream",
     "text": [
      "经过Inexact Newton Iteration求解的根为:[ 5.00000000e-01  9.29430110e-13 -5.23598776e-01]\n",
      "\n",
      "经过scipy fsolve求解的根为:[ 5.00000000e-01 -2.11514737e-14 -5.23598776e-01]\n"
     ]
    }
   ],
   "source": [
    "def f(x):\n",
    "    x1,x2,x3 = x[:3]\n",
    "    \n",
    "    f1 = 3*x1-np.cos(x2*x3) - 1/2\n",
    "    f2 = x1 ** 2 - 81 * (x2 + 0.1) **2 + np.sin(x3) + 1.06\n",
    "    f3 = np.exp(-x1 * x2) + 20 * x3 + 10 / 3 * np.pi - 1\n",
    "    \n",
    "    return np.array([f1,f2,f3]).astype(float)\n",
    "\n",
    "\n",
    "X0 = np.random.random(3)\n",
    "\n",
    "X = newton_iteration2D(f,X0)\n",
    "\n",
    "X1 = sp.optimize.fsolve(f,X0)\n",
    "\n",
    "print(f\"经过Inexact Newton Iteration求解的根为:{X[0]}\\n\")\n",
    "print(f\"经过scipy fsolve求解的根为:{X1}\")"
   ]
  },
  {
   "cell_type": "code",
   "execution_count": 66,
   "metadata": {},
   "outputs": [],
   "source": [
    "## 尝试使用符号系统Sympy求解非线性方程组问题\n",
    "\n",
    "x1,x2,x3 = syp.symbols('x1,x2,x3')\n",
    "\n",
    "f1 = 3*x1-syp.cos(x2*x3) - 1/2\n",
    "\n",
    "f2 = x1 ** 2 - 81 * (x2 + 0.1) **2 + syp.sin(x3) + 1.06\n",
    "\n",
    "f3 = syp.exp(-x1 * x2) + 20 * x3 + 10 / 3 * syp.pi - 1\n",
    "\n",
    "eq1 = syp.Eq(f1,0)\n",
    "eq2 = syp.Eq(f2,0)\n",
    "eq3 = syp.Eq(f3,0)\n",
    "\n",
    "#solution = syp.solve([eq1,eq2,eq3],[x1,x2,x3])\n",
    "\n",
    "#print(solution)"
   ]
  },
  {
   "cell_type": "markdown",
   "metadata": {},
   "source": [
    "可以发现,sympy库无法解出解,因而,这个方程组`没有解析解`.  \n",
    "但是我们可以使用sympy库中提供的nsolve(func,variables,guess)来求出其相对来说更加精准的解."
   ]
  },
  {
   "cell_type": "code",
   "execution_count": 67,
   "metadata": {},
   "outputs": [
    {
     "name": "stdout",
     "output_type": "stream",
     "text": [
      "Matrix([[0.500000000000000], [-3.49736401533568e-18], [-0.523598775598299]])\n"
     ]
    }
   ],
   "source": [
    "nsolution = syp.nsolve([f1,f2,f3],[x1,x2,x3],X0)\n",
    "\n",
    "print(nsolution)"
   ]
  },
  {
   "cell_type": "code",
   "execution_count": 68,
   "metadata": {},
   "outputs": [
    {
     "name": "stdout",
     "output_type": "stream",
     "text": [
      "1.625\n"
     ]
    },
    {
     "data": {
      "text/plain": [
       "0.015625"
      ]
     },
     "execution_count": 68,
     "metadata": {},
     "output_type": "execute_result"
    }
   ],
   "source": [
    "epsilon = 0.05\n",
    "\n",
    "def f(x):\n",
    "    return x ** 2 - x - 1\n",
    "\n",
    "x0 = np.random.random()\n",
    "x = bisection_method(f,x0,[0,2],epsilon)\n",
    "\n",
    "print(x)\n",
    "\n",
    "f(x)"
   ]
  },
  {
   "cell_type": "code",
   "execution_count": 69,
   "metadata": {},
   "outputs": [
    {
     "name": "stdout",
     "output_type": "stream",
     "text": [
      "迭代次数为:26, 迭代结果为:1.465571486445766\n",
      "迭代次数为:14, 迭代结果为:1.4655717920968396\n",
      "未收敛\n"
     ]
    },
    {
     "name": "stderr",
     "output_type": "stream",
     "text": [
      "C:\\Users\\hasee\\AppData\\Local\\Temp\\ipykernel_31276\\3002541226.py:8: RuntimeWarning: invalid value encountered in sqrt\n",
      "  return 1 / np.sqrt(x-1)\n"
     ]
    }
   ],
   "source": [
    "def f1(x):\n",
    "    return 1 + 1 / x**2\n",
    "\n",
    "def f2(x):\n",
    "    return (1+x**2) ** (1/3)\n",
    "\n",
    "def f3(x):\n",
    "    return 1 / np.sqrt(x-1)\n",
    "\n",
    "x0 = 1.5\n",
    "\n",
    "x1 = fixed_point_iteration(f1,x0)\n",
    "x2 = fixed_point_iteration(f2,x0)\n",
    "x3 = fixed_point_iteration(f3,x0)"
   ]
  },
  {
   "cell_type": "code",
   "execution_count": 70,
   "metadata": {},
   "outputs": [
    {
     "data": {
      "text/plain": [
       "[<matplotlib.lines.Line2D at 0x1db862574c0>]"
      ]
     },
     "execution_count": 70,
     "metadata": {},
     "output_type": "execute_result"
    },
    {
     "data": {
      "image/png": "[encoded data removed]",
      "text/plain": [
       "<Figure size 640x480 with 1 Axes>"
      ]
     },
     "metadata": {},
     "output_type": "display_data"
    }
   ],
   "source": [
    "x = np.linspace(1,2,501)\n",
    "\n",
    "f = 2/3 * x * (1+x**2) ** (-2/3)\n",
    "\n",
    "plt.plot(x,f)"
   ]
  },
  {
   "cell_type": "code",
   "execution_count": 71,
   "metadata": {},
   "outputs": [
    {
     "name": "stdout",
     "output_type": "stream",
     "text": [
      "0.0\n",
      "2.5339349524020977e-06\n"
     ]
    }
   ],
   "source": [
    "def f(x):\n",
    "    return x - np.tan(x)\n",
    "\n",
    "x0 = np.random.random()\n",
    "\n",
    "x1 = bisection_method(f,x0,[-1,1],tol = 1e-6)\n",
    "x2 = newton_iteration(f,x0,[-1,1],tol = 1e-6)\n",
    "\n",
    "print(x1)\n",
    "print(x2)"
   ]
  },
  {
   "cell_type": "code",
   "execution_count": 72,
   "metadata": {},
   "outputs": [
    {
     "name": "stdout",
     "output_type": "stream",
     "text": [
      "(array([1.58113883, 1.22474487]), 2)\n"
     ]
    },
    {
     "name": "stderr",
     "output_type": "stream",
     "text": [
      "C:\\Users\\hasee\\AppData\\Local\\Temp\\ipykernel_31276\\754971090.py:53: RuntimeWarning: invalid value encountered in true_divide\n",
      "  V[:, j + 1] = w / H[j + 1, j]\n"
     ]
    }
   ],
   "source": [
    "X0 = [1.6,1.2]\n",
    "\n",
    "def f(x):\n",
    "    x,y = x[:2]\n",
    "    \n",
    "    f1 = x**2 + y**2 - 4\n",
    "    f2 = x**2 - y**2 - 1\n",
    "    \n",
    "    return np.array([f1,f2]).astype(float)\n",
    "\n",
    "X = newton_iteration2D(f,X0)\n",
    "print(X)"
   ]
  }
 ],
 "metadata": {
  "kernelspec": {
   "display_name": "base",
   "language": "python",
   "name": "python3"
  },
  "language_info": {
   "codemirror_mode": {
    "name": "ipython",
    "version": 3
   },
   "file_extension": ".py",
   "mimetype": "text/x-python",
   "name": "python",
   "nbconvert_exporter": "python",
   "pygments_lexer": "ipython3",
   "version": "3.9.13"
  }
 },
 "nbformat": 4,
 "nbformat_minor": 2
}
