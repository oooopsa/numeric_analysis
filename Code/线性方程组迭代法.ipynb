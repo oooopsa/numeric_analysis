{
 "cells": [
  {
   "cell_type": "code",
   "execution_count": 36,
   "metadata": {},
   "outputs": [],
   "source": [
    "# 导入numpy库，用于进行科学计算\n",
    "import numpy as np\n",
    "\n",
    "# 导入matplotlib.pyplot库，用于数据可视化\n",
    "import matplotlib.pyplot as plt\n",
    "\n",
    "# 导入sympy库，用于符号数学计算\n",
    "import sympy as sp\n",
    "\n",
    "# 导入IPython.display模块，用于在Jupyter Notebook中显示数学公式和LaTeX\n",
    "from IPython.display import display"
   ]
  },
  {
   "cell_type": "markdown",
   "metadata": {},
   "source": [
    "# 雅可比迭代法（Jacobi Iteration）\n",
    "## 概述\n",
    "雅可比迭代法是一种求解线性方程组的迭代方法，特别适用于大型稀疏矩阵的求解。它基于将原方程组分解为对角占优的形式，通过迭代逐步逼近方程组的真实解。给定一个线性方程组 $Ax=b$，其中 $A$ 是一个$n \\times n$的矩阵，$x$ 和 $b$ 分别是$n$维列向量。\n",
    "\n",
    "## 基本原理\n",
    "假设矩阵 $A$ 可以被分解为对角部分 $D$、上三角部分 $U$ 和下三角部分 $L$，即 $A = D + L + U$，其中 $D$ 是 $A$ 的对角线元素组成的对角矩阵。雅可比迭代法通过固定其他项，依次更新每一个未知数的估计值来逼近真实解。\n",
    "\n",
    "## 迭代公式\n",
    "\n",
    "$$ x^{(k+1)} = D^{-1}(b - (L + U)x^{(k)}) $$\n",
    "\n",
    "其中，$x^{(k)}$ 表示第$k$次迭代的解向量估计，$x^{(k+1)}$ 是基于当前估计的下一次迭代解。\n",
    "\n",
    "## 步骤\n",
    "* 初始化：选择一个初始解向量 $x^{(0)}$，通常可以取全零向量或根据问题背景给出的合理猜测。\n",
    "\n",
    "* 迭代计算：对于每一个未知数 $x_i$，根据上述迭代公式计算其新的估计值。\n",
    "\n",
    "* 收敛判断：重复步骤2，直到满足某种收敛准则，如两次连续迭代解的差的范数小于预设的容差 $\\epsilon$，即 $||x^{(k+1)} - x^{(k)}|| < \\epsilon$。\n",
    "\n",
    "* 结果输出：当达到收敛条件时，输出最终的解向量 $x$。\n",
    "\n",
    "## 收敛性与加速\n",
    "* 收敛条件：雅可比迭代法在矩阵 $A$ 的谱半径（最大特征值的模）小于1时收敛，且当矩阵是对角占优时收敛速度较快。\n",
    "\n",
    "* 加速技巧：为了提高收敛速度，可以采用松弛因子 $\\omega > 1$ 调整迭代公式为 $x^{(k+1)} = \\omega D^{-1}(b - (L + U)x^{(k)})$，这种方法称为超松弛雅可比迭代,我们将会在下文介绍到它。"
   ]
  },
  {
   "cell_type": "code",
   "execution_count": 37,
   "metadata": {},
   "outputs": [],
   "source": [
    "def diag(A):\n",
    "    \"\"\"\n",
    "    Extracts the diagonal elements of a square matrix A into a new matrix D.\n",
    "\n",
    "    Parameters:\n",
    "    A (np.ndarray): A square matrix.\n",
    "\n",
    "    Returns:\n",
    "    np.ndarray: A matrix containing only the diagonal elements of A.\n",
    "    \"\"\"\n",
    "    \n",
    "    \n",
    "    D = np.zeros((A.shape[0],A.shape[1]))\n",
    "    \n",
    "    for i in range(A.shape[0]):\n",
    "        D[i,i] = A[i, i]\n",
    "    \n",
    "    return D\n",
    "\n",
    "def diag_inv(A):\n",
    "    \"\"\"\n",
    "    Inverses the diagonal elements of a square matrix A into a new matrix D.\n",
    "\n",
    "    Parameters:\n",
    "    A (np.ndarray): A square matrix whose diagonal elements are non-zero.\n",
    "\n",
    "    Returns:\n",
    "    np.ndarray: A matrix containing the inverse of the diagonal elements of A.\n",
    "    \"\"\"\n",
    "   \n",
    "    \n",
    "    D = np.zeros((A.shape[0],A.shape[1]))\n",
    "    \n",
    "    for i in range(A.shape[0]):\n",
    "        D[i,i] = 1/A[i, i]\n",
    "        \n",
    "    return D\n",
    "\n",
    "def tril(A,index = 0):\n",
    "    \"\"\"\n",
    "    Extracts the lower triangular part of matrix A (including the diagonal) into a new matrix L.\n",
    "\n",
    "    Parameters:\n",
    "    A (np.ndarray): Any matrix.\n",
    "    index (int, optional): The subdiagonal index to extract. Default is 0.\n",
    "\n",
    "    Returns:\n",
    "    np.ndarray: The lower triangular part of A.\n",
    "    \"\"\"\n",
    "\n",
    "    n=len(A)\n",
    "    \n",
    "    L = np.zeros_like(A)\n",
    "    \n",
    "    for i in range(index,n):\n",
    "        for j in range(0,i+1-index):\n",
    "            L[i,j] = A[i,j]\n",
    "            \n",
    "    return L\n",
    "\n",
    "def triu(A,index = 0):\n",
    "    \"\"\"\n",
    "    Extracts the upper triangular part of matrix A (including the diagonal) into a new matrix U.\n",
    "\n",
    "    Parameters:\n",
    "    A (np.ndarray): Any matrix.\n",
    "    index (int, optional): The superdiagonal index to extract. Default is 0.\n",
    "\n",
    "    Returns:\n",
    "    np.ndarray: The upper triangular part of A.\n",
    "    \"\"\"\n",
    "\n",
    "    n=len(A)\n",
    "    \n",
    "    U = np.zeros_like(A)\n",
    "    \n",
    "    for j in range(index,n):\n",
    "        for i in range(0,j+1-index):\n",
    "            U[i,j] = A[i,j]\n",
    "            \n",
    "    return U\n",
    "\n",
    "def Jacobi_iteration(A, b, x0, tol=1e-6, max_iter=150):\n",
    "    \"\"\"\n",
    "    Solves the linear equation system Ax = b using the Jacobi iterative method.\n",
    "\n",
    "    Parameters:\n",
    "    A (np.ndarray): A symmetric positive definite matrix.\n",
    "    b (np.ndarray): The right-hand side vector of the equation.\n",
    "    x0 (np.ndarray): The initial guess for the solution.\n",
    "    tol (float, optional): The tolerance for convergence judgment. Default is 1e-6.\n",
    "    max_iter (int, optional): The maximum number of iterations. Default is 150.\n",
    "\n",
    "    Returns:\n",
    "    np.ndarray: The approximate solution of the linear equation system.\n",
    "    k: The number of iterations taken to converge.\n",
    "    \"\"\"\n",
    "\n",
    "    if not isinstance(A, np.ndarray) or not isinstance(b, np.ndarray) or not isinstance(x0, np.ndarray):\n",
    "        raise TypeError(\"A, b, and x0 must be numpy arrays.\")\n",
    "    if A.shape[0] != A.shape[1] or A.shape[0] != b.shape[0] or A.shape[0] != x0.shape[0]:\n",
    "        raise ValueError(\"A must be square, and the shapes of A, b, and x0 must match.\")\n",
    "    \n",
    "    A = A.copy()\n",
    "    b = b.copy()\n",
    "    x0 = x0.copy()\n",
    "\n",
    "    dA = diag(A)\n",
    "    dA_inv = diag_inv(A)\n",
    "    \n",
    "    r0 = np.linalg.norm(b - np.dot(A, x0))\n",
    "    L = tril(A, 1)\n",
    "    U = triu(A, 1)\n",
    "    B = L + U\n",
    "\n",
    "    for k in range(max_iter):\n",
    "        # Directly invert the diagonal elements\n",
    "        x1 = np.dot(dA_inv, b - np.dot(B, x0))\n",
    "        r1 = np.linalg.norm(b - np.dot(A, x1))\n",
    "        if r1 / r0 < tol:\n",
    "            break\n",
    "        else:\n",
    "            x0 = x1\n",
    "            \n",
    "    if k == max_iter - 1:\n",
    "        print(\"Jacobii Iteration count has reached the maximum value.\")\n",
    "        \n",
    "    return np.around(x1,decimals=5),k"
   ]
  },
  {
   "cell_type": "code",
   "execution_count": 38,
   "metadata": {},
   "outputs": [
    {
     "data": {
      "text/plain": [
       "array([1., 3., 2.])"
      ]
     },
     "execution_count": 38,
     "metadata": {},
     "output_type": "execute_result"
    }
   ],
   "source": [
    "A = np.array([[3, 1, 0], [1, 3, 1], [0, 1, 3]])\n",
    "b = np.array([6, 12, 9])\n",
    "\n",
    "# 定义初始解向量x0\n",
    "x0 = np.array([0, 0, 0])\n",
    "\n",
    "# 调用函数进行Jacobii迭代\n",
    "x1,_ = Jacobi_iteration(A, b, x0)\n",
    "x1"
   ]
  },
  {
   "cell_type": "markdown",
   "metadata": {},
   "source": [
    "# Gauss-Seidel 迭代法\n",
    "\n",
    "## 简介\n",
    "`Gauss-Seidel` 迭代法，也称为 `Liebmann` 方法，是一种迭代求解线性方程组 $Ax = b$ 的方法，其中 $A$ 是一个非奇异的系数矩阵，$b$ 是已知的右端项向量，而 $x$ 是待求的未知向量。与 Jacobi 迭代法相比，Gauss-Seidel 迭代法在每次迭代时使用了最新计算出的解分量，因此通常具有更快的收敛速度。\n",
    "\n",
    "## 基本思想\n",
    "Gauss-Seidel 迭代的核心思想是将矩阵 $A$ 分解为 $D + L + U$，其中 (D) 是对角矩阵，(L) 是严格下三角矩阵，(U) 是严格上三角矩阵。迭代公式可以表示为：\n",
    "\n",
    "$$ D  x^{(k+1)} = L  x^{(k+1)} + U  x^{(k)} + b $$\n",
    "\n",
    "这里，$x^{(k)}$ 表示第 $k$ 次迭代的解向量估计，$x^{(k+1)}$ 是下一次迭代的解向量估计。\n",
    "\n",
    "## 实现步骤\n",
    "* 初始化: 选择一个初始解向量 $x^{(0)}$，通常可以取全零向量或基于问题特性的合理猜测。\n",
    "\n",
    "* 迭代计算:\n",
    "对于每个未知数 $x_i$，使用当前迭代中其他未知数的最新值来更新它：\n",
    "$$ x_i^{(k+1)} = \\frac{1}{a_{ii}} \\left(b_i - \\sum_{j<i} a_{ij}x_j^{(k+1)} - \\sum_{j>i} a_{ij}x_j^{(k)}\\right) $$\n",
    " 其中，$a_{ij}$ 表示矩阵 $A$ 中的元素，且 $i, j = 1, 2, ..., n$。\n",
    "\n",
    "* 收敛判断:\n",
    "\n",
    "设定一个容差 $\\epsilon$，当两次迭代之间的解向量变化量的范数小于$\\epsilon$，或者达到预设的最大迭代次数时，停止迭代。\n",
    "\n",
    "* 结果输出:\n",
    "\n",
    "输出最终迭代得到的解向量 $x$。"
   ]
  },
  {
   "cell_type": "code",
   "execution_count": 39,
   "metadata": {},
   "outputs": [],
   "source": [
    "def Gauss_Seidel_iteration(A, b, x0, tol=1e-6, max_iter=150):\n",
    "    \"\"\"\n",
    "    使用高斯-赛德尔方法迭代解线性方程组Ax=b。\n",
    "\n",
    "    参数:\n",
    "    A: Matrix(List or np.ndarray) - 线性方程组的系数矩阵。\n",
    "    b: Vector(List or np.ndarray) - 线性方程组的右侧常数向量。\n",
    "    x0: Vector(List or np.ndarray) - 迭代的初始解向量。\n",
    "    tol: float,optional - 迭代的终止容差,默认为1e-6。\n",
    "    max_iter: int,optional - 最大迭代次数,默认为150。\n",
    "\n",
    "    返回:\n",
    "    x1: 迭代得到的解向量。\n",
    "    k: 迭代的次数。\n",
    "    \"\"\"\n",
    "    \n",
    "    # 计算A的对角线矩阵dA，用于后续迭代中的矩阵分解。\n",
    "    dA = diag(A)\n",
    "    \n",
    "    # 计算初始解x0与b的残差向量的范数。\n",
    "    r0 = np.linalg.norm(b - np.dot(A, x0))\n",
    "    \n",
    "    # 分离A矩阵的下三角部分和上三角部分，用于高斯-赛德尔迭代。\n",
    "    L = tril(A, index=1)\n",
    "    U = triu(A, index=1)\n",
    "    \n",
    "    dA_inv = np.linalg.inv(dA + L)\n",
    "    \n",
    "    # 开始迭代过程。\n",
    "    for k in range(max_iter):\n",
    "        # 根据高斯-赛德尔方法更新解向量x1。\n",
    "        x1 = np.dot(dA_inv, b - np.dot(U, x0))\n",
    "        \n",
    "        # 计算新解x1与b的残差向量的范数。\n",
    "        r1 = np.linalg.norm(b - np.dot(A, x1))\n",
    "        \n",
    "        # 检查残差范数是否小于终止容差，是则终止迭代。\n",
    "        if r1 < tol * (r0 + tol):\n",
    "            break\n",
    "        else:\n",
    "            # 如果残差范数仍大于终止容差，则更新初始解x0为当前解x1，继续下一轮迭代。\n",
    "            x0 = x1\n",
    "            \n",
    "    # 如果达到最大迭代次数仍未满足终止条件，则输出提示信息。\n",
    "    if k == max_iter-1:\n",
    "        print(\"Gauss-Seidel迭代次数已达到最大值\")\n",
    "        \n",
    "    # 返回最终迭代得到的解向量x1。\n",
    "    return np.around(x1,decimals=5),k"
   ]
  },
  {
   "cell_type": "code",
   "execution_count": 40,
   "metadata": {},
   "outputs": [
    {
     "data": {
      "text/plain": [
       "array([2.5, 4. , 3.5])"
      ]
     },
     "execution_count": 40,
     "metadata": {},
     "output_type": "execute_result"
    }
   ],
   "source": [
    "A = np.array([[2, -1, 0], [-1, 2, -1], [0, -1, 2]])\n",
    "b = np.array([1, 2, 3])\n",
    "\n",
    "# 定义初始解向量x0\n",
    "x0 = np.array([0, 0, 0])\n",
    "\n",
    "# 调用函数进行高斯-赛德尔迭代\n",
    "x1,_ = Gauss_Seidel_iteration(A, b, x0)\n",
    "\n",
    "x1"
   ]
  },
  {
   "cell_type": "markdown",
   "metadata": {},
   "source": [
    "# 超松弛迭代法（Successive Over-Relaxation, SOR）\n",
    "## 概述\n",
    "超松弛迭代法是解线性方程组的一种迭代算法，它是高斯-赛德尔迭代法的一个改进版。该方法通过引入一个松弛因子 $\\omega$（通常取值在 $1$ 到 $2$ 之间），加快了收敛速度，尤其适用于大稀疏矩阵的求解。超松弛迭代法特别适合于对称正定矩阵的线性系统。\n",
    "\n",
    "## 基本原理\n",
    "假设要解的线性方程组为 $Ax = b$，其中 $A$ 是一个对称正定矩阵，$x$ 和 $b$ 分别是未知向量和已知右端项向量。\n",
    "引入超松弛因子$\\omega$,构建迭代矩阵\n",
    "$$\n",
    "B = I - \\omega(D - \\omega L)^{-1}A = (D - \\omega L)^{-1}((1-\\omega)D + \\omega U)\n",
    "$$\n",
    "其中 $I$ 是单位矩阵，$D$ 是对角矩阵，$L$ 是下三角矩阵，$U$ 是上三角矩阵。\n",
    "\n",
    "\n",
    "## 迭代公式\n",
    "超松弛迭代法的迭代公式为：\n",
    "\n",
    "$$ x^{(k+1)}_i = \\omega\\left(\\frac{1}{a_{ii}}\\left(b_i - \\sum_{j<i}a_{ij}x^{(k+1)}j - \\sum_{j>i}a_{ij}x^{(k)}_j\\right)\\right) + (1-\\omega)x^{(k)}_i $$\n",
    "\n",
    "这里，$x^{(k)}_i$ 表示第 $i$ 个未知数在第 $k$ 次迭代时的估计值，$\\omega$ 是松弛因子，通常选取接近但小于 $2$ 的值以保证算法的收敛性。\n",
    "\n",
    "## 收敛条件\n",
    "超松弛迭代法的收敛不仅依赖于矩阵 $A$ 的性质，还与选择的松弛因子 $\\omega$ 密切相关。对于对称正定矩阵，当满足：\n",
    "\n",
    "$$ \\frac{1}{2} < \\omega < 2 $$\n",
    "\n",
    "且 $\\omega$ 使得 $A - \\omega D^{-1}L$ 和 $A - \\omega D^{-1}U$ （其中 $D$, $L$, $U$ 分别为 $A$ 的对角部分、下三角部分和上三角部分）都是对称正定矩阵时，迭代过程是收敛的。\n",
    "\n",
    "## 实现步骤\n",
    "* 初始化：选择一个初始解向量 $x^{(0)}$ 和松弛因子 $\\omega$。\n",
    "* 迭代计算：按照上述迭代公式计算新的解向量 $x^{(k+1)}$。\n",
    "* 判断收敛：根据预设的收敛精度（如残差的范数小于某一阈值），判断是否达到收敛条件。若未收敛，则返回步骤2继续迭代。"
   ]
  },
  {
   "cell_type": "code",
   "execution_count": 41,
   "metadata": {},
   "outputs": [],
   "source": [
    "def Successive_over_relaxation(A,b,x0,w = 1.5,tol = 1e-6,max_iter = 150):\n",
    "    \"\"\"\n",
    "    使用超松弛迭代法解决线性方程组Ax=b的问题。\n",
    "    \n",
    "    参数:\n",
    "    A: 线性方程组的系数矩阵。\n",
    "    b: 线性方程组的右侧常数向量。\n",
    "    x0: 解的初始猜测值。\n",
    "    w: 超松弛参数,默认为1.5。\n",
    "    tol: 迭代停止的容差,默认为1e-6。\n",
    "    max_iter: 最大迭代次数,默认为150。\n",
    "    \n",
    "    返回:\n",
    "    x1: 迭代得到的解。\n",
    "    k: 实际执行的迭代次数。\n",
    "    \"\"\"\n",
    "    \n",
    "    # 复制输入矩阵和向量，以避免修改原始数据\n",
    "    A = A.copy()\n",
    "    b = b.copy()\n",
    "    x0 = x0.copy()\n",
    "    \n",
    "    # 提取A的对角线矩阵\n",
    "    dA = diag(A)\n",
    "    # 计算初始残差\n",
    "    r0 = np.linalg.norm(b - np.dot(A,x0))\n",
    "    # 分离A的下三角和上三角部分\n",
    "    L = tril(A,1)\n",
    "    U = triu(A,1)\n",
    "    \n",
    "    # 计算对角线矩阵的逆，并乘以松弛参数\n",
    "    dA_inv = np.linalg.inv(dA + w * L)\n",
    "    \n",
    "    # 开始迭代\n",
    "    for k in range(max_iter):\n",
    "        # 计算迭代步长\n",
    "        B = w * b - np.dot((w-1)*dA + w * U,x0)\n",
    "        x1 = np.dot(dA_inv,B)\n",
    "        # 计算当前残差\n",
    "        r1 = np.linalg.norm(b - np.dot(A,x1))\n",
    "        # 检查残差是否满足停止条件\n",
    "        if r1 < tol * (r0 + tol):\n",
    "            break\n",
    "        else:\n",
    "            x0 = x1\n",
    "            \n",
    "    # 检查是否达到最大迭代次数\n",
    "    if k == max_iter-1:\n",
    "        print(\"SOR迭代次数已达到最大值\")\n",
    "        \n",
    "    # 返回最终解和迭代次数\n",
    "    return np.around(x1,decimals = 5),k"
   ]
  },
  {
   "cell_type": "code",
   "execution_count": 42,
   "metadata": {},
   "outputs": [
    {
     "name": "stdout",
     "output_type": "stream",
     "text": [
      "SOR迭代次数已达到最大值\n",
      "SOR迭代次数已达到最大值\n",
      "SOR迭代次数已达到最大值\n",
      "SOR迭代次数已达到最大值\n",
      "SOR迭代次数已达到最大值\n"
     ]
    },
    {
     "data": {
      "text/plain": [
       "<matplotlib.legend.Legend at 0x21715b10bb0>"
      ]
     },
     "execution_count": 42,
     "metadata": {},
     "output_type": "execute_result"
    },
    {
     "data": {
      "image/png": "[encoded data removed]",
      "text/plain": [
       "<Figure size 640x480 with 1 Axes>"
      ]
     },
     "metadata": {},
     "output_type": "display_data"
    }
   ],
   "source": [
    "A = np.array([[2, -1, 0], [-1, 2, -1], [0, -1, 2]])\n",
    "b = np.array([1, 2, 3])\n",
    "\n",
    "# 定义初始解向量x0\n",
    "x0 = np.array([0, 0, 0])\n",
    "\n",
    "# 调用函数进行高斯-赛德尔迭代\n",
    "x1,epoch = Successive_over_relaxation(A, b, x0,w = 1.4)\n",
    "\n",
    "lrs = np.linspace(1,2,51)\n",
    "\n",
    "epochs = []\n",
    "\n",
    "for lr in lrs:\n",
    "    _,epoch = Successive_over_relaxation(A, b, x0,w = lr)\n",
    "    epochs.append(epoch)\n",
    "    \n",
    "plt.plot(lrs,epochs)\n",
    "plt.xlabel(\"w\")\n",
    "plt.ylabel(\"epochs\")\n",
    "plt.legend([\"epochs\"])"
   ]
  },
  {
   "cell_type": "markdown",
   "metadata": {},
   "source": [
    "# 梯度下降法\n",
    "## 核心思想\n",
    "我们知道,对于一个函数而言,其梯度方向$\\nabla(f)$为其增长最快的方向,因此,如果我们希望寻求某个函数的最小值,我们只需要在每一步都按照如下的方式:\n",
    "$$\n",
    "x^{i+1}=x^i-\\alpha\\nabla(f)(x^i)\n",
    "$$\n",
    "其中$\\alpha$为步长,$\\nabla(f)$为方向,形象地来描述即为:在每一步我都去思考下一步往哪里走,走多远.  \n",
    "因此,我们容易发现,对于一个梯度法,我们只需要定义一个方向,一个距离即可完成迭代.\n"
   ]
  },
  {
   "cell_type": "markdown",
   "metadata": {},
   "source": [
    "## 定义\n",
    "我们首先定义$f(x) = x^TAx / 2 - bx^T$   \n",
    "此时定义$\\varphi(x) = \\nabla(f) = Ax - b$   \n",
    "令$x^{k+1} = x^k + \\alpha p^{(k)}$\n",
    "\n",
    "此时,我们对$f(x)$关于$\\alpha$求导,得到:\n",
    "$$\n",
    "f(x^{(k)} + \\alpha p^{(k)}) = f(x^{(k)}) + \\alpha ((Ax^{(k)} - b),p^{(k)}) + \\frac{\\alpha^2}{2} (Ap^{(k)},p^{(k)}) \\\\\n",
    "\\frac{df(x + \\alpha p^{(k)})}{d\\alpha} = (Ax^{(k)} - b,p^{(k)}) + \\alpha(Ap^{(k)},p^{(k)}) = 0 \\\\\n",
    "\\alpha = -\\frac{(Ax^{(k)} - b,p^{(k)})}{(Ap^{(k)},p^{(k)})}\n",
    "$$\n",
    "此时我们得到了$\\alpha$的计算公式,下面我们就该考虑如何计算$p^{(k)}$了,根据方向的不同衍生出了一些不同的迭代方法,下面我们先介绍一种最基本的迭代方法,即梯度下降法:  \n",
    "由前文的分析,我们知道负梯度方向是函数当前位置的最速下降位置,因此我们很直接的可以取$p^{(k)} = -\\nabla(f) = -(Ax^{(k)} - b)$  \n",
    "我们定义$r^{(k)} = p^{(k)} = -(Ax^{(k)} - b)$  \n",
    "这时,我们得到了梯度下降的公式:\n",
    "$$\n",
    "\\alpha = -\\frac{(r^{(k)},r^{(k)})}{(Ar^{(k)},r^{(k)})}\n",
    "$$\n"
   ]
  },
  {
   "cell_type": "code",
   "execution_count": 43,
   "metadata": {},
   "outputs": [],
   "source": [
    "def grad_descent(A, b, x0, tol=1e-6, max_iter=150):\n",
    "    \"\"\"\n",
    "    使用梯度下降法解决线性方程组Ax = b的问题。\n",
    "\n",
    "    参数:\n",
    "    A: Matrix(List or np.ndarray) - 系数矩阵。\n",
    "    b: Vector(List or np.ndarray) - 偏置向量。\n",
    "    x0: Vector(List or np.ndarray) - 初始猜测解向量。\n",
    "    tol: float,optional - 迭代停止的容差值，用于判断解是否足够接近。\n",
    "    max_iter: int,optional - 最大迭代次数。\n",
    "    \n",
    "    \"\"\"\n",
    "    # 复制输入矩阵和向量，以避免原地修改\n",
    "    A = A.copy()\n",
    "    b = b.copy()\n",
    "    x0 = x0.copy()\n",
    "    \n",
    "    # 计算初始残差\n",
    "    r0 = b - np.dot(A, x0)\n",
    "    r0 = b - np.dot(A,x0)  ## 初始残差\n",
    "    i = 0  ## 迭代次数\n",
    "    \n",
    "    # 使用梯度下降法进行迭代，直到残差足够小或达到最大迭代次数\n",
    "    while np.linalg.norm(r0) > tol and i < max_iter:\n",
    "        # 选择P作为当前残差\n",
    "        P = r0\n",
    "        # 计算A作用于P的结果\n",
    "        A_P = np.dot(A, P)\n",
    "        # 计算alpha值，用于更新解\n",
    "        alpha = np.dot(P, r0) / np.dot(P, A_P)\n",
    "        # 更新解向量\n",
    "        x0 = x0 + alpha * P\n",
    "        # 更新残差\n",
    "        r0 -= alpha * A_P\n",
    "        i += 1\n",
    "    \n",
    "    # 检查是否达到最大迭代次数\n",
    "    if i < max_iter:\n",
    "        # 如果未达到最大迭代次数，解足够接近时，四舍五入并返回解\n",
    "        x = np.around(x0, decimals=4)\n",
    "    else:\n",
    "        # 如果达到最大迭代次数，返回当前残差的范数和解\n",
    "        residual = np.linalg.norm(r0)\n",
    "        x = np.around(x0, decimals=4)\n",
    "    \n",
    "    return x, i"
   ]
  },
  {
   "cell_type": "code",
   "execution_count": 44,
   "metadata": {},
   "outputs": [
    {
     "data": {
      "text/plain": [
       "(array([0.8, 5. ]), 54)"
      ]
     },
     "execution_count": 44,
     "metadata": {},
     "output_type": "execute_result"
    }
   ],
   "source": [
    "A = np.array(\n",
    "    [\n",
    "        [10,0],\n",
    "        [0,1]\n",
    "    ]\n",
    ").astype(np.float64)\n",
    "\n",
    "b = np.array([8,5]).astype(np.float64)\n",
    "\n",
    "x0 = np.array([1,1]).astype(np.float64)\n",
    "\n",
    "x,iter = grad_descent(A,b,x0)\n",
    "\n",
    "x,iter\n"
   ]
  },
  {
   "cell_type": "markdown",
   "metadata": {},
   "source": [
    "我们很容易能够发现,梯度下降法每次前进后,下一次的方向与上一次的方向必定`正交`,即:\n",
    "$$\n",
    "P_{k+1} \\perp P_{k} \n",
    "$$\n",
    "这就意味着,我们在每次前进后必须沿着`该点切平面内`垂直与上一次的方向前进,尽管我们在当前时间步内取得了局部的最小值,但这并不意味着在全局内我们是最优策略,转化为Code方面的来看,也就是grad_descent采用的是`greedy`(贪心)策略,但是实际上,我们面临的问题并不都是贪心的.  \n",
    "在这种意义上,我们或许需要寻找一个相对来说收敛更快的的算法.  \n",
    "这也就引出了我们下面定义的共轭梯度法"
   ]
  },
  {
   "cell_type": "markdown",
   "metadata": {},
   "source": [
    "# 共轭梯度法（Conjugate Gradient Method）\n",
    "## 简介\n",
    "共轭梯度法是一种求解线性系统(Ax=b)的迭代算法，其中(A)是对称正定矩阵。该方法在解决大型稀疏线性方程组时特别有效，因为它仅需矩阵的乘法操作而不需要直接存储或计算矩阵的逆或分解。共轭梯度法结合了梯度下降法的思想与共轭方向的概念，能够沿着最优路径快速收敛到最小值。\n",
    "\n",
    "## 基本原理\n",
    "### 数学支撑\n",
    "在寻找前进方向时,我们并不按照常规意义上的正交方向,而是按照A-共轭的正交法则即\n",
    "$$\n",
    "(u,v)_A = u^TAv\n",
    "$$\n",
    "这具有较为直观的几何意义,即使得$$(Ap^{(i)},p^{(j)}) = 0,\\forall i \\neq j$$\n",
    "也就是在系数矩阵作用下,仍然可以有一个方向正交,这显然会减少迭代次数.  \n",
    "在经过理论推理后,我们可以得到下述迭代系数:\n",
    "$$\n",
    "r^{(0)} = b - A x^{(0)},p^{(0)} = r^{(0)}\\\\\n",
    "\\alpha_k = \\frac{(r^{(k)},r^{(k)})}{(Ap^{(k)},p^{(k)})}\\\\\n",
    "x^{(k+1)} = x^{(k)} + \\alpha_k p^{(k)}\\\\\n",
    "r^{(k+1)} = r^{(k)} - \\alpha_k Ap^{(k)},\\beta_k = \\frac{(r^{(k+1)},r^{(k+1)})}{(r^{(k)},r^{(k)})}\\\\\n",
    "p^{(k+1)} = r^{(k+1)} + \\beta_k p^{(k)}\n",
    "$$\n",
    "### 初始设置\n",
    "* 初始点：选择一个初始估计$x_0$。\n",
    "* 初始残差：计算初始残差$r_0 = b - Ax_0$.\n",
    "* 搜索方向：第一个搜索方向设为初始残差的方向，即$p_0 = r_0$。\n",
    "### 迭代过程\n",
    "对于第(k)次迭代（$k=0,1,2,...$）：\n",
    "\n",
    "* 计算步长：找到使得目标函数减小最多的步长$\\alpha_k$，通过最小化沿$p_k$方向的目标函数，通常使用瑞利商（Rayleigh quotient）的下降条件 确定： $$ \\alpha_k = \\frac{r_k^T r_k}{p_k^T Ap_k} $$\n",
    "* 更新解：根据步长更新解的估计： $$x_{k+1} = x_k + \\alpha_k p_k $$\n",
    "* 计算新残差： $$ r_{k+1} = r_k - \\alpha_k Ap_k $$\n",
    "* 共轭条件与新搜索方向：为了保证搜索方向间的共轭性，下一个搜索方向由当前残差和前一个搜索方向线性组合得到： $$ p_{k+1} = r_{k+1} + \\beta_k p_k $$ 其中，$\\beta_k$是通过不同的公式计算得到，以确保共轭性，常见的一种选择是Fletcher-Reeves公式： $$ \\beta_k = \\frac{r_{k+1}^T r_{k+1}}{r_k^T r_k} $$\n",
    "* 收敛判断\n",
    "迭代通常在残差的范数小于某个预设的阈值或达到预定的最大迭代次数时停止。\n",
    "\n",
    "## 性质\n",
    "* 收敛性：共轭梯度法对于对称正定矩阵保证线性收敛，且在最理想情况下（矩阵特征值良好分布时），可以达到二次收敛速度。\n",
    "* 存储效率：相比其他直接求解方法，共轭梯度法不需要存储矩阵(A)的逆或进行矩阵分解，特别适合大规模稀疏矩阵问题。\n",
    "* 计算效率：每一步迭代主要涉及矩阵向量乘法，这是许多科学计算软件高效实现的操作。\n",
    "* 无需精确矩阵信息：仅需能够计算矩阵(A)与向量的乘积即可，适用于那些矩阵不易直接获得但乘法可计算的情形。"
   ]
  },
  {
   "cell_type": "code",
   "execution_count": 45,
   "metadata": {},
   "outputs": [],
   "source": [
    "def check_symmetric_positive_definite(A):\n",
    "    \"\"\"\n",
    "    检查矩阵是否是对称正定的。\n",
    "    \"\"\"\n",
    "    A_transpose = A.T\n",
    "    if not np.allclose(A, A_transpose, atol=1e-8):\n",
    "        raise ValueError(\"矩阵A不是对称的。\")\n",
    "    eigenvalues = np.linalg.eigvals(A)\n",
    "    if not np.all(eigenvalues > 0):\n",
    "        raise ValueError(\"矩阵A不是正定的。\")\n",
    "\n",
    "def AspaceDot(A, u, v):\n",
    "    \"\"\"\n",
    "    计算向量u和v在矩阵A定义下的点积。\n",
    "\n",
    "    参数:\n",
    "    A: _Matrix_ - 矩阵A,要求为对称正定矩阵。\n",
    "    u: _Vector_ - 第一个向量。\n",
    "    v: _Vector_ - 第二个向量。\n",
    "\n",
    "    返回值:\n",
    "    _float/integer_ - u和v在矩阵A定义下的点积结果。\n",
    "    \"\"\"\n",
    "\n",
    "    # 确保A是对称正定的\n",
    "    check_symmetric_positive_definite(A)\n",
    "    \n",
    "    return np.dot(u, np.dot(A, v))\n",
    "\n",
    "\n",
    "def conjugate_gradient(A, b, x0, tol=1e-6, max_iter=150, output_key=False):\n",
    "    \"\"\"\n",
    "    使用共轭梯度法解决线性方程组Ax=b。\n",
    "\n",
    "    参数:\n",
    "    A: Matrix(List or np.ndarray) - 系数矩阵，要求为对称正定矩阵。\n",
    "    b: vector(List or np.ndarray) - 右侧常数向量。\n",
    "    x0: vector(List or np.ndarray) - 初始猜测解向量。\n",
    "    tol: float, optional - 收敛容差,默认为1e-6。\n",
    "    max_iter: int, optional - 最大迭代次数,默认为150。\n",
    "    output_key: bool - 是否输出迭代信息,默认为False。\n",
    "\n",
    "    返回值:\n",
    "    vector(List or np.ndarray) - 线性方程组的解向量。\n",
    "    \"\"\"\n",
    "\n",
    "    # 复制输入矩阵和向量，以避免修改原始数据\n",
    "    A = A.copy()\n",
    "    b = b.copy()\n",
    "    x0 = x0.copy()\n",
    "\n",
    "    # 初始化残差向量\n",
    "    r = b - np.dot(A, x0)\n",
    "    P = [r]\n",
    "\n",
    "    i = 0\n",
    "    while i < max_iter and np.linalg.norm(r) > tol:\n",
    "        oldr = r\n",
    "        # 计算alpha值\n",
    "        alpha = np.dot(oldr, oldr) / np.dot(P[-1], np.dot(A, P[-1]))\n",
    "\n",
    "        # 更新解向量\n",
    "        x0 = x0 + alpha * P[-1]\n",
    "\n",
    "        # 更新残差向量\n",
    "        r = oldr - alpha * np.dot(A, P[-1])\n",
    "\n",
    "        # 计算beta值\n",
    "        beta = np.dot(r, r) / np.dot(oldr, oldr)\n",
    "\n",
    "        # 更新共轭向量\n",
    "        t = r + beta * P[-1]\n",
    "\n",
    "        P.append(t)\n",
    "\n",
    "        i += 1\n",
    "\n",
    "    # 判断是否达到最大迭代次数\n",
    "    if i == max_iter:\n",
    "        x = np.around(x0, decimals=5)\n",
    "        residual = np.linalg.norm(r)\n",
    "\n",
    "        # 输出迭代信息\n",
    "        if output_key:\n",
    "            print(f\"Iterator:{max_iter},算法未收敛,残差为:{residual},x为:{x}\")\n",
    "    else:\n",
    "        x = np.around(x0, decimals=5)\n",
    "\n",
    "        # 输出迭代信息\n",
    "        if output_key:\n",
    "            print(f\"Iterator:{i},算法收敛.\\nx为:{x}\")\n",
    "\n",
    "    return x, i"
   ]
  },
  {
   "cell_type": "code",
   "execution_count": 46,
   "metadata": {},
   "outputs": [
    {
     "data": {
      "text/plain": [
       "(array([0.51316, 5.     , 0.10197]), 3)"
      ]
     },
     "execution_count": 46,
     "metadata": {},
     "output_type": "execute_result"
    }
   ],
   "source": [
    "A = np.array(\n",
    "    [\n",
    "        [14,0,8],\n",
    "        [0,1,0],\n",
    "        [8,0,48]\n",
    "    ]\n",
    ").astype(np.float64)\n",
    "\n",
    "b = np.array([8,5,9]).astype(np.float64)\n",
    "\n",
    "x0 = np.array([1,1,5]).astype(np.float64)\n",
    "\n",
    "x,iter = conjugate_gradient(A,b,x0)\n",
    "x,iter"
   ]
  },
  {
   "cell_type": "markdown",
   "metadata": {},
   "source": [
    "上机练习1:  \n",
    "分别利用`Jacobi,Gauss-Seidel,SOR迭代法`计算`Ax = b`,`n = 15`并画出向量`x`的图像\n",
    "$$\n",
    "A = \\begin{pmatrix}\n",
    "    \\frac{5}{2} & -1 & 0 & \\cdots & 0 & -1 \\\\\n",
    "    -1 & \\frac{5}{2} & -1 & \\cdots & 0 & 0 \\\\\n",
    "    \\vdots & \\vdots & \\ddots & \\ddots & \\vdots \\\\\n",
    "    -1 & 0 & \\cdots & 0 & -1 & \\frac{5}{2}\n",
    "    \\end{pmatrix}_{n\\times n}\n",
    "\n",
    "x = \\begin{pmatrix}\n",
    "    x_1 \\\\\n",
    "    x_2 \\\\\n",
    "    \\vdots \\\\\n",
    "    x_n\n",
    "    \\end{pmatrix}_{n\\times 1}\n",
    "\n",
    "b = \\begin{pmatrix}\n",
    "    1 \\\\\n",
    "    0 \\\\\n",
    "    \\vdots \\\\\n",
    "    0\n",
    "    \\end{pmatrix}_{n\\times 1}\n",
    "$$"
   ]
  },
  {
   "cell_type": "code",
   "execution_count": 47,
   "metadata": {},
   "outputs": [
    {
     "data": {
      "image/png": "[encoded data removed]",
      "text/plain": [
       "<Figure size 640x480 with 1 Axes>"
      ]
     },
     "metadata": {},
     "output_type": "display_data"
    }
   ],
   "source": [
    "A = np.zeros((15,15)).astype(np.float64)\n",
    "\n",
    "for i in range(15):\n",
    "    A[i,i] = 5/2\n",
    "    if i != 0:\n",
    "        A[i,i-1] = -1\n",
    "    if i != 14:\n",
    "        A[i,i+1] = -1\n",
    "A[0,14],A[14,0] = -1,-1\n",
    "\n",
    "b = np.zeros(15).astype(np.float64)\n",
    "b[0] = 1\n",
    "\n",
    "x0 = np.random.rand(15).astype(np.float64)\n",
    "\n",
    "x_jaco,iter_jaco = Jacobi_iteration(A,b,x0)\n",
    "x_gauss,iter_gauss = Gauss_Seidel_iteration(A,b,x0)\n",
    "x_SOR,iter_sor = Successive_over_relaxation(A,b,x0,w = 1.8) \n",
    "\n",
    "n = 15\n",
    "plt.plot(range(n),x_jaco,'r-',label='Jacobi')\n",
    "plt.plot(range(n),x_gauss,'b-',label='Gauss-Seidel')\n",
    "plt.plot(range(n),x_SOR,'g-',label='SOR')\n",
    "plt.legend()\n",
    "plt.show()"
   ]
  },
  {
   "cell_type": "markdown",
   "metadata": {},
   "source": [
    "ex2:  \n",
    "尝试自己写`CG`和`Germs`算法程序计算上述例子,体会计算效率的不同"
   ]
  },
  {
   "cell_type": "code",
   "execution_count": 48,
   "metadata": {},
   "outputs": [
    {
     "name": "stdout",
     "output_type": "stream",
     "text": [
      "Iterator:8,算法收敛.\n",
      "x为:[0.66671 0.33338 0.16675 0.0835  0.04199 0.02149 0.01172 0.00781 0.00781\n",
      " 0.01172 0.02149 0.04199 0.0835  0.16675 0.33338]\n"
     ]
    },
    {
     "data": {
      "text/plain": [
       "[<matplotlib.lines.Line2D at 0x21715e593a0>]"
      ]
     },
     "execution_count": 48,
     "metadata": {},
     "output_type": "execute_result"
    },
    {
     "data": {
      "image/png": "[encoded data removed]",
      "text/plain": [
       "<Figure size 640x480 with 1 Axes>"
      ]
     },
     "metadata": {},
     "output_type": "display_data"
    }
   ],
   "source": [
    "x,iter_CG = conjugate_gradient(A, b, x0, tol=1e-6, max_iter=150,output_key = True)\n",
    "\n",
    "plt.plot(range(len(x)), x)"
   ]
  },
  {
   "cell_type": "code",
   "execution_count": 49,
   "metadata": {},
   "outputs": [
    {
     "data": {
      "text/plain": [
       "(4.0, array([0.70710678, 0.70710678]))"
      ]
     },
     "execution_count": 49,
     "metadata": {},
     "output_type": "execute_result"
    }
   ],
   "source": [
    "A = np.array([[3,1],[1,3]]).astype(float)\n",
    "x0 = np.array([1,0]).astype(float)\n",
    "\n",
    "for i in range(30):\n",
    "    \n",
    "    x1 = A @ x0\n",
    "    \n",
    "    lamb = np.dot(x1.T,x0) / np.dot(x0.T,x0)\n",
    "    \n",
    "    x0 = x1 / np.linalg.norm(x1)\n",
    "    \n",
    "    \n",
    "lamb,x0"
   ]
  },
  {
   "cell_type": "code",
   "execution_count": 50,
   "metadata": {},
   "outputs": [],
   "source": [
    "def iterOftest(x,omega,max_iter = 200,epsilon = 1e-5):\n",
    "    x0 = x.copy()\n",
    "    \n",
    "    A = np.array([[1-omega,-1/2 * omega],[-1/2 * omega,1-omega]]).astype(np.float64)\n",
    "    b = np.array([omega / 2,3 * omega / 2]).astype(np.float64)\n",
    "    \n",
    "    for i in range(max_iter):\n",
    "        \n",
    "        x1 = A @ x0 + b\n",
    "        \n",
    "        if np.linalg.norm(x1-x0) < epsilon:\n",
    "            \n",
    "            return (x1,i)\n",
    "        \n",
    "        x0 = x1\n",
    "        \n",
    "    return (x1,max_iter)"
   ]
  },
  {
   "cell_type": "code",
   "execution_count": 51,
   "metadata": {},
   "outputs": [
    {
     "name": "stdout",
     "output_type": "stream",
     "text": [
      "1.2966666666666666\n"
     ]
    },
    {
     "data": {
      "text/plain": [
       "[<matplotlib.lines.Line2D at 0x21715d08040>]"
      ]
     },
     "execution_count": 51,
     "metadata": {},
     "output_type": "execute_result"
    },
    {
     "data": {
      "image/png": "[encoded data removed]",
      "text/plain": [
       "<Figure size 640x480 with 1 Axes>"
      ]
     },
     "metadata": {},
     "output_type": "display_data"
    }
   ],
   "source": [
    "x = np.random.randn(2).reshape(-1,1).astype(np.float64)\n",
    "\n",
    "iter_count = [iterOftest(x,2/3 + 0.01 *i)[1] for i in range(100)]\n",
    "\n",
    "flag = 0\n",
    "\n",
    "for i,iter_c in enumerate(iter_count):\n",
    "    \n",
    "    if iter_c == 200 and flag == 0:\n",
    "        \n",
    "        flag = 1\n",
    "        \n",
    "        print(i * 0.01 + 2/3)\n",
    "\n",
    "plt.plot([i for i in range(100)],iter_count)"
   ]
  }
 ],
 "metadata": {
  "kernelspec": {
   "display_name": "base",
   "language": "python",
   "name": "python3"
  },
  "language_info": {
   "codemirror_mode": {
    "name": "ipython",
    "version": 3
   },
   "file_extension": ".py",
   "mimetype": "text/x-python",
   "name": "python",
   "nbconvert_exporter": "python",
   "pygments_lexer": "ipython3",
   "version": "3.9.13"
  }
 },
 "nbformat": 4,
 "nbformat_minor": 2
}
